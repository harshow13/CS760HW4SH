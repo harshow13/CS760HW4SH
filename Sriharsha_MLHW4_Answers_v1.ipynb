{
 "cells": [
  {
   "cell_type": "code",
   "execution_count": 8,
   "metadata": {},
   "outputs": [],
   "source": [
    "##unpack .tgz file\n",
    "#import tarfile\n",
    "#tar = tarfile.open(\"languageID.tgz\", \"r:gz\")\n",
    "#tar.extractall()  ##input data is extracted to the \"languageID\" folder"
   ]
  },
  {
   "attachments": {},
   "cell_type": "markdown",
   "metadata": {},
   "source": [
    "**Problem 2 - Language Identification with Naive Bayes**"
   ]
  },
  {
   "cell_type": "code",
   "execution_count": 1,
   "metadata": {},
   "outputs": [],
   "source": [
    "\n",
    "import pandas as pd\n",
    "import numpy as np\n",
    "import os\n",
    "import math\n",
    "import random\n",
    "import matplotlib.pyplot as plt"
   ]
  },
  {
   "attachments": {},
   "cell_type": "markdown",
   "metadata": {},
   "source": [
    "*Important functions*"
   ]
  },
  {
   "cell_type": "code",
   "execution_count": 5,
   "metadata": {},
   "outputs": [],
   "source": [
    "##creating input datasets\n",
    "def get_input_data(file_patterns, input_data_path = \"languageID/\"):\n",
    "    X = []\n",
    "    Y = []\n",
    "    for file_pattern in file_patterns:\n",
    "        for file in os.listdir(input_data_path): ##for each file\n",
    "            if file_pattern in file: ##if the file name contains the pattern\n",
    "                Y.append(file[0]) ##extracting the language label from the first charac of file name\n",
    "                #loading string data from text files\n",
    "                file_data = open(input_data_path + file, \"r\").read()\n",
    "                x_i =[]\n",
    "                for i in file_data:\n",
    "                    if i.isalpha() or i==\" \": ##extracting only alphabets and spaces\n",
    "                        x_i.append(i)\n",
    "                \n",
    "                X.append(x_i)\n",
    "    return X, Y"
   ]
  },
  {
   "cell_type": "code",
   "execution_count": 6,
   "metadata": {},
   "outputs": [],
   "source": [
    "##calculating conditional probabilities (for pre-defined a_s and c_k)\n",
    "def conditional_prob(X, Y,a_s, c_k, alpha, S):\n",
    "    numerator = 0\n",
    "    for i in range(len(X)):\n",
    "        for j in range(len(X[i])):\n",
    "            if X[i][j]==a_s and Y[i]==c_k:\n",
    "                numerator= numerator + 1\n",
    "    updated_numerator = numerator + alpha\n",
    "\n",
    "    denominator = 0\n",
    "    \"\"\"for i in range(len(X)):\n",
    "        for j in range(len(X[i])):\n",
    "            if Y[i]==c_k:\n",
    "                denominator += 1 */ \"\"\"\n",
    "    for b_s in S:\n",
    "        for i in range(len(X)):\n",
    "            for j in range(len(X[i])):\n",
    "                if X[i][j]==b_s and Y[i]==c_k:\n",
    "                    denominator = denominator + 1\n",
    "    updated_denominator = denominator + alpha*len(S)\n",
    "\n",
    "    return updated_numerator/updated_denominator\n",
    "\n"
   ]
  },
  {
   "cell_type": "code",
   "execution_count": 7,
   "metadata": {},
   "outputs": [],
   "source": [
    "##calculating prior probabilities (for pre-defined c_k)\n",
    "def prior_prob(Y, c_k, alpha, L):\n",
    "    numerator = 0\n",
    "    for i in range(len(Y)):\n",
    "        if Y[i]==c_k:\n",
    "            numerator = numerator + 1\n",
    "    updated_numerator = numerator + alpha\n",
    "\n",
    "    updated_denominator = len(Y) + alpha*len(L)\n",
    "\n",
    "    #print(\"updated_numerator: \", updated_numerator, \"updated_denominator: \", updated_denominator)\n",
    "\n",
    "    return updated_numerator/updated_denominator"
   ]
  },
  {
   "cell_type": "code",
   "execution_count": 8,
   "metadata": {},
   "outputs": [],
   "source": [
    "##bag of charac count vector (returns bag of charac counts as the input data, instead of total # characs )\n",
    "def bag_of_characs_count(file_patterns, vocabulary, input_data_path = \"languageID/\"):\n",
    "    X = []\n",
    "    Y = []\n",
    "    for file_pattern in file_patterns:\n",
    "        for file in os.listdir(input_data_path): ##for each file\n",
    "            if file_pattern in file: ##if the file name contains the pattern\n",
    "                Y.append(file[0]) ##extracting the language label from the first charac of file name\n",
    "                #loading string data from text files\n",
    "                file_data = open(input_data_path + file, \"r\").read()\n",
    "                x_i =[]\n",
    "                for i in vocabulary:\n",
    "                    x_i.append(file_data.count(i))\n",
    "                X.append(x_i)\n",
    "    return X, Y\n"
   ]
  },
  {
   "attachments": {},
   "cell_type": "markdown",
   "metadata": {},
   "source": [
    "**2.1 prior probabilities using 0.txt to 9.txt**"
   ]
  },
  {
   "cell_type": "code",
   "execution_count": 10,
   "metadata": {},
   "outputs": [
    {
     "name": "stdout",
     "output_type": "stream",
     "text": [
      "Prior probability of  s  is  0.3333333333333333\n",
      "Prior probability of  e  is  0.3333333333333333\n",
      "Prior probability of  j  is  0.3333333333333333\n"
     ]
    }
   ],
   "source": [
    "file_patterns_2_1 = ['e0.txt', 'e1.txt', 'e2.txt', 'e3.txt', 'e4.txt', 'e5.txt', 'e6.txt', 'e7.txt', 'e8.txt', 'e9.txt', 'j0.txt', 'j1.txt', 'j2.txt', 'j3.txt', 'j4.txt', 'j5.txt', 'j6.txt', 'j7.txt', 'j8.txt', 'j9.txt', 's0.txt', 's1.txt', 's2.txt', 's3.txt', 's4.txt', 's5.txt', 's6.txt', 's7.txt', 's8.txt', 's9.txt']\n",
    "\n",
    "X_2_1, Y_2_1 = get_input_data(file_patterns_2_1)\n",
    "\n",
    "list_of_labels = list(set(Y_2_1))\n",
    "\n",
    "for l in list_of_labels:\n",
    "    print(\"Prior probability of \", l, \" is \", prior_prob(Y_2_1, l, 1/2, list_of_labels))\n"
   ]
  },
  {
   "cell_type": "code",
   "execution_count": 13,
   "metadata": {},
   "outputs": [
    {
     "name": "stdout",
     "output_type": "stream",
     "text": [
      "['a', 'b', 'c', 'd', 'e', 'f', 'g', 'h', 'i', 'j', 'k', 'l', 'm', 'n', 'o', 'p', 'q', 'r', 's', 't', 'u', 'v', 'w', 'x', 'y', 'z', ' ']\n"
     ]
    },
    {
     "data": {
      "text/plain": [
       "27"
      ]
     },
     "execution_count": 13,
     "metadata": {},
     "output_type": "execute_result"
    }
   ],
   "source": [
    "#list with all the alphabets manually\n",
    "import string\n",
    "list_of_charcs =list(string.ascii_lowercase)\n",
    "list_of_charcs.append(\" \")\n",
    "print(list_of_charcs)\n",
    "len(list_of_charcs)"
   ]
  },
  {
   "attachments": {},
   "cell_type": "markdown",
   "metadata": {},
   "source": [
    "**2.2 & 2.3 class conditional probability (multinomial parameter)**"
   ]
  },
  {
   "cell_type": "code",
   "execution_count": 15,
   "metadata": {},
   "outputs": [
    {
     "name": "stdout",
     "output_type": "stream",
     "text": [
      "Parameter vector for English:  [0.0601685114819098, 0.011134974392863043, 0.021509995043779945, 0.021972575582355856, 0.1053692383941847, 0.018932760614571286, 0.017478936064761277, 0.047216256401784236, 0.055410540227986124, 0.001420783082768875, 0.0037336857756484387, 0.028977366595076822, 0.020518751032545846, 0.057921691723112505, 0.06446390219725756, 0.01675202378985627, 0.0005617049396993227, 0.053824549810011564, 0.06618205848339666, 0.08012555757475633, 0.026664463902197257, 0.009284652238559392, 0.015496448042293078, 0.001156451346439782, 0.013844374690236246, 0.0006277878737815959, 0.1792499586981662]\n",
      "Parameter vector for Japanese:  [0.1317656102589189, 0.010866906600510151, 0.005485866033054963, 0.01722631818022992, 0.06020475907613823, 0.003878542227191726, 0.014011670568503443, 0.03176211607673224, 0.09703343932352633, 0.0023411020650616725, 0.05740941332681086, 0.001432614696530277, 0.03979873510604843, 0.05671057688947902, 0.09116321324993885, 0.0008735455466648031, 0.00010482546559977637, 0.04280373178657535, 0.0421747789929767, 0.056990111464411755, 0.07061742199238269, 0.0002445927530661449, 0.01974212935462455, 3.4941821866592126e-05, 0.01415143785596981, 0.00772214263251686, 0.12344945665466997]\n",
      "Parameter vector for Spanish:  [0.10456045141993771, 0.008232863618143134, 0.03752582405722919, 0.039745922111559924, 0.1138108599796491, 0.00860287996053159, 0.0071844839813758445, 0.0045327001942585795, 0.049859702136844375, 0.006629459467793161, 0.0002775122567913416, 0.052943171656748174, 0.02580863988159477, 0.054176559464709693, 0.07249236841293824, 0.02426690512164287, 0.007677839104560451, 0.05929511886774999, 0.06577040485954797, 0.03561407295488884, 0.03370232185254849, 0.00588942678301625, 9.250408559711388e-05, 0.0024976103111220747, 0.007862847275754679, 0.0026826184823163022, 0.16826493170115014]\n"
     ]
    }
   ],
   "source": [
    "parameter_vector_english = []\n",
    "for a_s in list_of_charcs:\n",
    "    parameter_vector_english.append(conditional_prob(X_2_1, Y_2_1, a_s, \"e\", 1/2, list_of_charcs))\n",
    "\n",
    "print(\"Parameter vector for English: \", parameter_vector_english)\n",
    "\n",
    "parameter_vector_japanese = []\n",
    "for a_s in list_of_charcs:\n",
    "    parameter_vector_japanese.append(conditional_prob(X_2_1, Y_2_1, a_s, \"j\", 1/2, list_of_charcs))\n",
    "\n",
    "print(\"Parameter vector for Japanese: \", parameter_vector_japanese)\n",
    "\n",
    "parameter_vector_spanish = []\n",
    "for a_s in list_of_charcs:\n",
    "    parameter_vector_spanish.append(conditional_prob(X_2_1, Y_2_1, a_s, \"s\", 1/2, list_of_charcs))\n",
    "\n",
    "print(\"Parameter vector for Spanish: \", parameter_vector_spanish)"
   ]
  },
  {
   "cell_type": "code",
   "execution_count": 16,
   "metadata": {},
   "outputs": [
    {
     "name": "stdout",
     "output_type": "stream",
     "text": [
      "27\n",
      "['a', 'b', 'c', 'd', 'e', 'f', 'g', 'h', 'i', 'j', 'k', 'l', 'm', 'n', 'o', 'p', 'q', 'r', 's', 't', 'u', 'v', 'w', 'x', 'y', 'z', ' ']\n"
     ]
    }
   ],
   "source": [
    "print(len(list_of_charcs))\n",
    "print(list_of_charcs)"
   ]
  },
  {
   "attachments": {},
   "cell_type": "markdown",
   "metadata": {},
   "source": [
    "**2.4 bag-of-characters (not words) count vector**"
   ]
  },
  {
   "cell_type": "code",
   "execution_count": 19,
   "metadata": {},
   "outputs": [
    {
     "name": "stdout",
     "output_type": "stream",
     "text": [
      "bag of characters count vector for e10.txt:  [164, 32, 53, 57, 311, 55, 51, 140, 140, 3, 6, 85, 64, 139, 182, 53, 3, 141, 186, 225, 65, 31, 47, 4, 38, 2, 498]\n"
     ]
    }
   ],
   "source": [
    "file_patterns_2_4 = [\"e10.txt\"]\n",
    "X_2_4, Y_2_4 =  bag_of_characs_count(file_patterns_2_4, list_of_charcs) ##here vocabulary is the list of all the characs (27)\n",
    "print(\"bag of characters count vector for e10.txt: \", X_2_4[0])"
   ]
  },
  {
   "attachments": {},
   "cell_type": "markdown",
   "metadata": {},
   "source": [
    "**2.5 likelihood of X given Y**"
   ]
  },
  {
   "cell_type": "code",
   "execution_count": 20,
   "metadata": {},
   "outputs": [],
   "source": [
    "## calculate likelihood for each language\n",
    "def log_likelihood(counts_vec, parameter_vector_english, parameter_vector_japanese, parameter_vector_spanish):\n",
    "    log_likelihood_english = 0\n",
    "    log_likelihood_japanese = 0\n",
    "    log_likelihood_spanish = 0\n",
    "    for i in range(len(counts_vec)):##as length of counts_vec is # of characs/parameters (d=27)\n",
    "        log_likelihood_english = log_likelihood_english + counts_vec[i]*math.log(parameter_vector_english[i])\n",
    "        log_likelihood_japanese = log_likelihood_japanese + counts_vec[i]*math.log(parameter_vector_japanese[i])\n",
    "        log_likelihood_spanish = log_likelihood_spanish+ counts_vec[i]*math.log(parameter_vector_spanish[i])\n",
    "\n",
    "    return log_likelihood_english, log_likelihood_japanese, log_likelihood_spanish"
   ]
  },
  {
   "cell_type": "code",
   "execution_count": 24,
   "metadata": {},
   "outputs": [
    {
     "name": "stdout",
     "output_type": "stream",
     "text": [
      "log(p(x|y=e)):  -7841.865447060635\n",
      "log(p(x|y=j)):  -8771.433079075032\n",
      "log(p(x|y=s)):  -8467.282044010557\n",
      "p(x|y=e):  0.0\n",
      "p(x|y=j):  0.0\n",
      "p(x|y=s):  0.0\n"
     ]
    }
   ],
   "source": [
    "ll_2_4_e, ll_2_4_j, ll_2_4_s  = log_likelihood(X_2_4[0], parameter_vector_english, parameter_vector_japanese, parameter_vector_spanish)\n",
    "print(\"log(p(x|y=e)): \", ll_2_4_e)\n",
    "print(\"log(p(x|y=j)): \", ll_2_4_j)\n",
    "print(\"log(p(x|y=s)): \", ll_2_4_s)\n",
    "print(\"p(x|y=e): \", math.exp(ll_2_4_e))\n",
    "print(\"p(x|y=j): \", math.exp(ll_2_4_j))\n",
    "print(\"p(x|y=s): \", math.exp(ll_2_4_s))"
   ]
  },
  {
   "cell_type": "code",
   "execution_count": 80,
   "metadata": {},
   "outputs": [
    {
     "data": {
      "text/plain": [
       "-8467.282044010557"
      ]
     },
     "execution_count": 80,
     "metadata": {},
     "output_type": "execute_result"
    }
   ],
   "source": [
    "ll_2_4_s"
   ]
  },
  {
   "attachments": {},
   "cell_type": "markdown",
   "metadata": {},
   "source": [
    "**2.6 posterior probability P(Y|X)**"
   ]
  },
  {
   "cell_type": "code",
   "execution_count": 26,
   "metadata": {},
   "outputs": [],
   "source": [
    "##using bayes rule to calculate posterior probabilities (p(y|x) = p(x|y)*p(y)/p(x) ~ p(x|y)*p(y) since p(x) is same for all y)\n",
    "###Therefore, log(p(y|x)) = log(p(x|y)) + log(p(y))\n",
    "def log_posterior_prob_calc(loglikeli, prior_prob):\n",
    "    return loglikeli + math.log(prior_prob)\n"
   ]
  },
  {
   "cell_type": "code",
   "execution_count": 29,
   "metadata": {},
   "outputs": [
    {
     "name": "stdout",
     "output_type": "stream",
     "text": [
      "log(p(y=e|x)):  -7842.964059349303\n",
      "log(p(y=j|x)):  -8772.5316913637\n",
      "log(p(y=s|x)):  -8468.380656299225\n",
      "Predicted language:  e\n"
     ]
    }
   ],
   "source": [
    "#p(y=e|x)\n",
    "log_posterior_prob_e = log_posterior_prob_calc(ll_2_4_e, prior_prob(Y_2_1, \"e\", 1/2, list_of_labels))\n",
    "print(\"log(p(y=e|x)): \", log_posterior_prob_e)\n",
    "#print(\"p(y=e|x): \", math.exp(log_posterior_prob_e))\n",
    "\n",
    "#p(y=j|x)\n",
    "log_posterior_prob_j = log_posterior_prob_calc(ll_2_4_j, prior_prob(Y_2_1, \"j\", 1/2, list_of_labels))\n",
    "print(\"log(p(y=j|x)): \", log_posterior_prob_j)\n",
    "#print(\"p(y=j|x): \", math.exp(log_posterior_prob_j))\n",
    "\n",
    "#p(y=s|x)\n",
    "log_posterior_prob_s = log_posterior_prob_calc(ll_2_4_s, prior_prob(Y_2_1, \"s\", 1/2, list_of_labels))\n",
    "print(\"log(p(y=s|x)): \", log_posterior_prob_s)\n",
    "#print(\"p(y=s|x): \", math.exp(log_posterior_prob_s))\n",
    "\n",
    "#predicting the language\n",
    "def predict_language(log_posterior_prob_e, log_posterior_prob_j, log_posterior_prob_s): ##order should be e, j, s\n",
    "    if log_posterior_prob_e >= log_posterior_prob_j and log_posterior_prob_e >= log_posterior_prob_s:\n",
    "        return \"e\"\n",
    "    elif log_posterior_prob_j >= log_posterior_prob_e and log_posterior_prob_j >= log_posterior_prob_s:\n",
    "        return \"j\"\n",
    "    else:\n",
    "        return \"s\"\n",
    "\n",
    "print(\"Predicted language: \", predict_language(log_posterior_prob_e, log_posterior_prob_j, log_posterior_prob_s))"
   ]
  },
  {
   "attachments": {},
   "cell_type": "markdown",
   "metadata": {},
   "source": [
    "**2.7 confusion matrix (test files - 10.txt to 19.txt)**"
   ]
  },
  {
   "cell_type": "code",
   "execution_count": 31,
   "metadata": {},
   "outputs": [],
   "source": [
    "## function for confusion matrix\n",
    "def confusion_matrix_calc(predicted_labels, actual_labels):\n",
    "    confusion_matrix = np.zeros((3,3))\n",
    "    for i in range(len(predicted_labels)):\n",
    "        if predicted_labels[i] == \"e\" and actual_labels[i] == \"e\":\n",
    "            confusion_matrix[0,0] = confusion_matrix[0,0] + 1\n",
    "        elif predicted_labels[i] == \"e\" and actual_labels[i] == \"j\":\n",
    "            confusion_matrix[0,1] = confusion_matrix[0,1] + 1\n",
    "        elif predicted_labels[i] == \"e\" and actual_labels[i] == \"s\":\n",
    "            confusion_matrix[0,2] = confusion_matrix[0,2] + 1\n",
    "        elif predicted_labels[i] == \"j\" and actual_labels[i] == \"e\":\n",
    "            confusion_matrix[1,0] = confusion_matrix[1,0] + 1\n",
    "        elif predicted_labels[i] == \"j\" and actual_labels[i] == \"j\":\n",
    "            confusion_matrix[1,1] = confusion_matrix[1,1] + 1\n",
    "        elif predicted_labels[i] == \"j\" and actual_labels[i] == \"s\":\n",
    "            confusion_matrix[1,2] = confusion_matrix[1,2] + 1\n",
    "        elif predicted_labels[i] == \"s\" and actual_labels[i] == \"e\":\n",
    "            confusion_matrix[2,0] = confusion_matrix[2,0] + 1\n",
    "        elif predicted_labels[i] == \"s\" and actual_labels[i] == \"j\":\n",
    "            confusion_matrix[2,1] = confusion_matrix[2,1] + 1\n",
    "        elif predicted_labels[i] == \"s\" and actual_labels[i] == \"s\":\n",
    "            confusion_matrix[2,2] = confusion_matrix[2,2] + 1\n",
    "    return confusion_matrix"
   ]
  },
  {
   "cell_type": "code",
   "execution_count": 33,
   "metadata": {},
   "outputs": [],
   "source": [
    "file_patterns_2_7 = ('e10.txt', 'e11.txt', 'e12.txt', 'e13.txt', 'e14.txt', 'e15.txt', 'e16.txt', 'e17.txt', 'e18.txt', 'e19.txt', 'j10.txt', 'j11.txt', 'j12.txt', 'j13.txt', 'j14.txt', 'j15.txt', 'j16.txt', 'j17.txt', 'j18.txt', 'j19.txt', 's10.txt', 's11.txt', 's12.txt', 's13.txt', 's14.txt', 's15.txt', 's16.txt', 's17.txt', 's18.txt', 's19.txt')\n",
    "\n",
    "X_2_7_test, Y_2_7_test_true = bag_of_characs_count(file_patterns_2_7, list_of_charcs) ##here vocabulary is the list of all the characs (27)\n"
   ]
  },
  {
   "cell_type": "code",
   "execution_count": 36,
   "metadata": {},
   "outputs": [
    {
     "data": {
      "text/plain": [
       "array([[10.,  0.,  0.],\n",
       "       [ 0., 10.,  0.],\n",
       "       [ 0.,  0., 10.]])"
      ]
     },
     "execution_count": 36,
     "metadata": {},
     "output_type": "execute_result"
    }
   ],
   "source": [
    "##predicting the language for test data\n",
    "Y_2_7_test_pred = []\n",
    "for t in range(len(X_2_7_test)):\n",
    "    ll_2_7_e, ll_2_7_j, ll_2_7_s  = log_likelihood(X_2_7_test[t], parameter_vector_english, parameter_vector_japanese, parameter_vector_spanish)\n",
    "    log_posterior_prob_e_2_7 = log_posterior_prob_calc(ll_2_7_e, prior_prob(Y_2_1, \"e\", 1/2, list_of_labels))\n",
    "    log_posterior_prob_j_2_7 = log_posterior_prob_calc(ll_2_7_j, prior_prob(Y_2_1, \"j\", 1/2, list_of_labels))\n",
    "    log_posterior_prob_s_2_7 = log_posterior_prob_calc(ll_2_7_s, prior_prob(Y_2_1, \"s\", 1/2, list_of_labels))\n",
    "\n",
    "    Y_2_7_test_pred.append(predict_language(log_posterior_prob_e_2_7, log_posterior_prob_j_2_7, log_posterior_prob_s_2_7))\n",
    "\n",
    "\n",
    "##confusion matrix\n",
    "confusion_matrix_calc(Y_2_7_test_pred, Y_2_7_test_true)\n"
   ]
  },
  {
   "attachments": {},
   "cell_type": "markdown",
   "metadata": {},
   "source": [
    "**2.8 Effect of Order suffle - e10**"
   ]
  },
  {
   "cell_type": "code",
   "execution_count": 37,
   "metadata": {},
   "outputs": [],
   "source": [
    "test_document = \"j19.txt\"\n",
    "file_data_2_8 = open(\"languageID/\" + test_document, \"r\").read()\n",
    "##suffle the string\n",
    "list_2_8 = list(file_data_2_8)\n",
    "random.shuffle(list_2_8)\n",
    "shuffled_file_data_2_8 = ''.join(list_2_8)\n",
    "\n",
    "#print(shuffled_file_data_2_8)\n",
    "\n",
    "x_i_2_8 =[]\n",
    "for i in list_of_charcs:\n",
    "    x_i_2_8.append(shuffled_file_data_2_8.count(i))"
   ]
  },
  {
   "cell_type": "code",
   "execution_count": 38,
   "metadata": {},
   "outputs": [
    {
     "name": "stdout",
     "output_type": "stream",
     "text": [
      "Predicted language for shuffled test (2.8):  j\n"
     ]
    }
   ],
   "source": [
    "##prediction for shuffled data\n",
    "ll_2_8_e, ll_2_8_j, ll_2_8_s  = log_likelihood(x_i_2_8, parameter_vector_english, parameter_vector_japanese, parameter_vector_spanish)\n",
    "log_posterior_prob_e_2_8 = log_posterior_prob_calc(ll_2_8_e, prior_prob(Y_2_1, \"e\", 1/2, list_of_labels))\n",
    "log_posterior_prob_j_2_8 = log_posterior_prob_calc(ll_2_8_j, prior_prob(Y_2_1, \"j\", 1/2, list_of_labels))\n",
    "log_posterior_prob_s_2_8 = log_posterior_prob_calc(ll_2_8_s, prior_prob(Y_2_1, \"s\", 1/2, list_of_labels))\n",
    "\n",
    "#print(log_posterior_prob_e_2_8, log_posterior_prob_j_2_8, log_posterior_prob_s_2_8)\n",
    "\n",
    "print(\"Predicted language for shuffled test (2.8): \", predict_language(log_posterior_prob_e_2_8, log_posterior_prob_j_2_8, log_posterior_prob_s_2_8))\n"
   ]
  },
  {
   "attachments": {},
   "cell_type": "markdown",
   "metadata": {},
   "source": [
    "***PROBLEM 3 NN***"
   ]
  },
  {
   "attachments": {},
   "cell_type": "markdown",
   "metadata": {},
   "source": [
    "*3. 1 Implementing back-propagation for a simple neural network from scratch*"
   ]
  },
  {
   "cell_type": "code",
   "execution_count": 39,
   "metadata": {},
   "outputs": [
    {
     "name": "stderr",
     "output_type": "stream",
     "text": [
      "c:\\Users\\harsh\\anaconda3\\envs\\3bmi771\\lib\\site-packages\\tqdm\\auto.py:22: TqdmWarning: IProgress not found. Please update jupyter and ipywidgets. See https://ipywidgets.readthedocs.io/en/stable/user_install.html\n",
      "  from .autonotebook import tqdm as notebook_tqdm\n"
     ]
    }
   ],
   "source": [
    "import torch\n",
    "import torch.nn as nn\n",
    "import torch.nn.functional as F\n",
    "import torch.optim as optim\n",
    "#import numpy as np"
   ]
  },
  {
   "cell_type": "code",
   "execution_count": 40,
   "metadata": {},
   "outputs": [],
   "source": [
    "def sigmoid(x): ##element wise sigmoid using pytorch\n",
    "    return 1 / (1 + torch.exp(-x))\n",
    "\n",
    "def softmax(x): ##element wise softmax using pytorch (using safe mode to avoid potential nans)\n",
    "    x_max = torch.max(x, dim=1, keepdim=True)[0]\n",
    "    x = x - x_max ##subtracting the max value to avoid potential nans\n",
    "    return torch.exp(x) / torch.sum(torch.exp(x), dim=1, keepdim=True)\n",
    "\n",
    "def forward_pass(X, W1, W2, W3): #three layer neural network with X shape (n, d), W1 shape (d1, d), W2 shape (d2, d1), W3 shape (k, d2)\n",
    "    Z1 = torch.matmul(W1, X.t()) #shape (d1, n)\n",
    "    H1 = sigmoid(Z1) #shape (d1, n)\n",
    "    Z2 = torch.matmul(W2, H1) #shape (d2, n)\n",
    "    H2 = sigmoid(Z2) #shape (d2, n)\n",
    "    Z3 = torch.matmul(W3, H2) #shape (k, n)\n",
    "    Y_hat = softmax(Z3) #shape (k, n)\n",
    "\n",
    "    return Z1, H1, Z2, H2, Z3, Y_hat\n",
    "\n",
    "def cross_entropy_loss(Y_hat, Y): #Y_hat shape (k, n), Y shape (n, k)\n",
    "    return -torch.sum(Y * torch.log(Y_hat.t()+ 1e-8)) / Y.shape[0] ###added 1e-8 to avoid potential nans\n",
    "\n",
    "def get_weight_gradients (Z1, H1, Z2, H2, Z3, Y_hat, X, W1, W2, W3, Y):\n",
    "    dL_dZ3 = Y_hat - Y.t() #shape (k, n)\n",
    "    dL_dW3 = torch.matmul(dL_dZ3, H2.t()) #shape (k, d2)\n",
    "    dL_dH2 = torch.matmul(W3.t(), dL_dZ3) #shape (d2, n)\n",
    "    dL_dZ2 = dL_dH2 * H2 * (1 - H2) #shape (d2, n)\n",
    "    dL_dW2 = torch.matmul(dL_dZ2, H1.t()) #shape (d2, d1)\n",
    "    dL_dH1 = torch.matmul(W2.t(), dL_dZ2) #shape (d1, n)\n",
    "    dL_dZ1 = dL_dH1 * H1 * (1 - H1) #shape (d1, n)\n",
    "    dL_dW1 = torch.matmul(dL_dZ1, X) #shape (d1, d)\n",
    "\n",
    "    return dL_dW1, dL_dW2, dL_dW3\n",
    "\n",
    "def accuray_calc(Y_hat, Y): #Y_hat shape (k, n), Y shape (n, k)\n",
    "    Y_hat_t = Y_hat.t() #shape (n, k)\n",
    "    Y_hat_t_max = torch.argmax(Y_hat_t, dim=1) #shape (n, )\n",
    "    Y_max = torch.argmax(Y, dim=1) #shape (n, )\n",
    "    return torch.sum(Y_hat_t_max == Y_max) / Y.shape[0]\n",
    "\n",
    "def train(X, Y, W1, W2, W3, learning_rate, num_epochs, batch_size):\n",
    "    val_data_size = int(X.shape[0]*0.15)\n",
    "    X_val  = X[:val_data_size, :]\n",
    "    Y_val  = Y[:val_data_size, :]\n",
    "    X_train = X[val_data_size:, :]\n",
    "    Y_train = Y[val_data_size:, :]\n",
    "    best_val_acc = 0\n",
    "    for epoch in range(num_epochs):\n",
    "        num_batches = (X_train.shape[0] + batch_size - 1) // batch_size\n",
    "        for i in range(num_batches):\n",
    "            min_index = i * batch_size\n",
    "            max_index = min((i+1) * batch_size, X_train.shape[0])\n",
    "            X_batch  = X_train[min_index:max_index, :]\n",
    "            Y_batch  = Y_train[min_index:max_index, :]\n",
    "\n",
    "            Z1, H1, Z2, H2, Z3, Y_hat = forward_pass(X_batch, W1, W2, W3)\n",
    "            dL_dW1, dL_dW2, dL_dW3 = get_weight_gradients(Z1, H1, Z2, H2, Z3, Y_hat, X_batch, W1, W2, W3, Y_batch)\n",
    "\n",
    "            #print(\"dL_dW1: \", dL_dW1, \"Y_hat \",Y_hat, \"H2:\", H2, \"H1: \", H1)\n",
    "\n",
    "            W1 = W1 - (learning_rate/Y_batch.shape[0]) * dL_dW1\n",
    "            W2 = W2 - (learning_rate/Y_batch.shape[0]) * dL_dW2\n",
    "            W3 = W3 - (learning_rate/Y_batch.shape[0]) * dL_dW3\n",
    "\n",
    "        Z1, H1, Z2, H2, Z3, Y_hat = forward_pass(X_train, W1, W2, W3)\n",
    "        loss = cross_entropy_loss(Y_hat, Y_train)\n",
    "        acc = accuray_calc(Y_hat, Y_train)\n",
    "\n",
    "        ##val score\n",
    "        Z1, H1, Z2, H2, Z3, Y_hat = forward_pass(X_val, W1, W2, W3)\n",
    "        val_loss = cross_entropy_loss(Y_hat, Y_val)\n",
    "        val_acc = accuray_calc(Y_hat, Y_val)\n",
    "        if val_acc > best_val_acc:\n",
    "            best_val_acc = val_acc\n",
    "            best_W1 = W1\n",
    "            best_W2 = W2\n",
    "            best_W3 = W3\n",
    "            #print(\"storing best weights\")\n",
    "\n",
    "        if epoch % 5 == 0:\n",
    "            print(\"Epoch: \", epoch, \" Loss: \", loss, \" Accuracy: \", acc, \" Val Accuracy: \", val_acc)\n",
    "            \n",
    "        #if epoch % 10 == 0 and epoch != 0:\n",
    "            #learning_rate = learning_rate * 0.90  ##decreasing learning rate by 10% every 10 epochs\n",
    "\n",
    "    return best_W1, best_W2, best_W3\n",
    "\n",
    "def test(X, Y, W1, W2, W3):\n",
    "    Z1, H1, Z2, H2, Z3, Y_hat = forward_pass(X, W1, W2, W3)\n",
    "    loss = cross_entropy_loss(Y_hat, Y)\n",
    "    acc = accuray_calc(Y_hat, Y)\n",
    "    print(\"Test Loss: \", loss, \" Test Accuracy: \", acc, \"Test error: \", 1-acc)\n",
    "\n",
    "    return loss, acc\n",
    "\n",
    "def xavier_int (dim1, dim2):\n",
    "    stdev = torch.sqrt(torch.tensor(2/(dim1 + dim2)))\n",
    "    return  torch.randn((dim1, dim2)) * stdev\n",
    "\n",
    "def initialize_weights (random_uniform = \"No\"):\n",
    "    if random_uniform == \"Yes\":\n",
    "        W1 = 2 * torch.rand((300, 784)) - 1 ##d = 784 (MNIST features size) d1 = 300. Converting [0 to 1] uniform distribution to [-1 to 1] uniform distribution\n",
    "        W2 = 2 * torch.rand((200, 300)) - 1 ##d2 = 200\n",
    "        W3 = 2 * torch.rand((10, 200)) - 1 ##k = 10 (MNIST classes size)\n",
    "\n",
    "    elif random_uniform == \"Xavier\": \n",
    "        W1 = xavier_int(300, 784)\n",
    "        W2 = xavier_int(200, 300)\n",
    "        W3 = xavier_int(10, 200)\n",
    "\n",
    "    else:\n",
    "        W1 = torch.zeros((300, 784))\n",
    "        W2 = torch.zeros((200, 300))\n",
    "        W3 = torch.zeros((10, 200))\n",
    "\n",
    "    return W1, W2, W3\n",
    "\n",
    "\n",
    "    \n",
    "\n",
    "\n"
   ]
  },
  {
   "attachments": {},
   "cell_type": "markdown",
   "metadata": {},
   "source": [
    "*MNIST dataset from PyTorch*"
   ]
  },
  {
   "cell_type": "code",
   "execution_count": 41,
   "metadata": {},
   "outputs": [],
   "source": [
    "##MNIST data from pytorch\n",
    "import torchvision\n",
    "\n",
    "# Define the transformations to apply to the images\n",
    "transform = torchvision.transforms.Compose([\n",
    "    torchvision.transforms.ToTensor(),  # Convert the image to a PyTorch tensor\n",
    "    torchvision.transforms.Normalize((0.1307,), (0.3081,))  # Normalize the tensor with the MNIST mean and standard deviation\n",
    "])\n",
    "\n",
    "# Download the training set\n",
    "train_dataset = torchvision.datasets.MNIST(root='./data', train=True, transform=transform, download=True)\n",
    "\n",
    "# Download the test set\n",
    "test_dataset = torchvision.datasets.MNIST(root='./data', train=False, transform=transform, download=True)\n"
   ]
  },
  {
   "cell_type": "code",
   "execution_count": 42,
   "metadata": {},
   "outputs": [
    {
     "name": "stdout",
     "output_type": "stream",
     "text": [
      "torch.Size([60000, 784]) torch.Size([60000, 10]) torch.Size([10000, 784]) torch.Size([10000, 10])\n"
     ]
    }
   ],
   "source": [
    "# Create the input feature tensors\n",
    "X_train = train_dataset.data.reshape(-1, 28*28).float() / 255.0  # Reshape and normalize the pixel values to [0, 1]\n",
    "X_test = test_dataset.data.reshape(-1, 28*28).float() / 255.0\n",
    "\n",
    "# Create the output label tensors\n",
    "Y_train = train_dataset.targets\n",
    "Y_test = test_dataset.targets\n",
    "\n",
    "# Convert the labels to one-hot vectors\n",
    "Y_train = torch.nn.functional.one_hot(Y_train, num_classes=10).float()\n",
    "Y_test = torch.nn.functional.one_hot(Y_test, num_classes=10).float()\n",
    "\n",
    "print(X_train.shape, Y_train.shape, X_test.shape, Y_test.shape)"
   ]
  },
  {
   "attachments": {},
   "cell_type": "markdown",
   "metadata": {},
   "source": [
    "*Training and Testing*"
   ]
  },
  {
   "cell_type": "code",
   "execution_count": 48,
   "metadata": {},
   "outputs": [
    {
     "name": "stdout",
     "output_type": "stream",
     "text": [
      "Sample size:  12000\n",
      "Epoch:  0  Loss:  tensor(9.3892)  Accuracy:  tensor(0.4275)  Val Accuracy:  tensor(0.4211)\n",
      "Epoch:  5  Loss:  tensor(8.4944)  Accuracy:  tensor(0.7082)  Val Accuracy:  tensor(0.7144)\n",
      "Epoch:  10  Loss:  tensor(8.2119)  Accuracy:  tensor(0.7245)  Val Accuracy:  tensor(0.7172)\n",
      "Epoch:  15  Loss:  tensor(8.0493)  Accuracy:  tensor(0.7242)  Val Accuracy:  tensor(0.7128)\n",
      "Epoch:  20  Loss:  tensor(7.9409)  Accuracy:  tensor(0.7422)  Val Accuracy:  tensor(0.7311)\n",
      "Epoch:  25  Loss:  tensor(7.9100)  Accuracy:  tensor(0.7393)  Val Accuracy:  tensor(0.7394)\n",
      "Epoch:  30  Loss:  tensor(7.9026)  Accuracy:  tensor(0.7453)  Val Accuracy:  tensor(0.7394)\n",
      "Epoch:  35  Loss:  tensor(7.9378)  Accuracy:  tensor(0.7516)  Val Accuracy:  tensor(0.7506)\n",
      "Epoch:  40  Loss:  tensor(7.9467)  Accuracy:  tensor(0.7572)  Val Accuracy:  tensor(0.7478)\n",
      "Epoch:  45  Loss:  tensor(7.9450)  Accuracy:  tensor(0.7456)  Val Accuracy:  tensor(0.7361)\n",
      "Epoch:  50  Loss:  tensor(7.9301)  Accuracy:  tensor(0.7433)  Val Accuracy:  tensor(0.7333)\n",
      "Epoch:  55  Loss:  tensor(7.9189)  Accuracy:  tensor(0.7381)  Val Accuracy:  tensor(0.7289)\n",
      "Epoch:  60  Loss:  tensor(7.9100)  Accuracy:  tensor(0.7346)  Val Accuracy:  tensor(0.7333)\n",
      "Epoch:  65  Loss:  tensor(7.8954)  Accuracy:  tensor(0.7349)  Val Accuracy:  tensor(0.7239)\n",
      "Epoch:  70  Loss:  tensor(7.8810)  Accuracy:  tensor(0.7308)  Val Accuracy:  tensor(0.7183)\n",
      "Test Loss:  tensor(7.9002)  Test Accuracy:  tensor(0.7628) Test error:  tensor(0.2372)\n",
      "Sample size:  24000\n",
      "Epoch:  0  Loss:  tensor(9.7878)  Accuracy:  tensor(0.5276)  Val Accuracy:  tensor(0.5256)\n",
      "Epoch:  5  Loss:  tensor(8.8319)  Accuracy:  tensor(0.6977)  Val Accuracy:  tensor(0.6903)\n",
      "Epoch:  10  Loss:  tensor(8.6460)  Accuracy:  tensor(0.7253)  Val Accuracy:  tensor(0.7247)\n",
      "Epoch:  15  Loss:  tensor(8.6268)  Accuracy:  tensor(0.7381)  Val Accuracy:  tensor(0.7456)\n",
      "Epoch:  20  Loss:  tensor(8.6173)  Accuracy:  tensor(0.7518)  Val Accuracy:  tensor(0.7586)\n",
      "Epoch:  25  Loss:  tensor(8.5899)  Accuracy:  tensor(0.7689)  Val Accuracy:  tensor(0.7806)\n",
      "Epoch:  30  Loss:  tensor(8.5744)  Accuracy:  tensor(0.7641)  Val Accuracy:  tensor(0.7744)\n",
      "Epoch:  35  Loss:  tensor(8.5383)  Accuracy:  tensor(0.7628)  Val Accuracy:  tensor(0.7650)\n",
      "Epoch:  40  Loss:  tensor(8.4935)  Accuracy:  tensor(0.7773)  Val Accuracy:  tensor(0.7733)\n",
      "Epoch:  45  Loss:  tensor(8.4574)  Accuracy:  tensor(0.7785)  Val Accuracy:  tensor(0.7783)\n",
      "Epoch:  50  Loss:  tensor(8.4199)  Accuracy:  tensor(0.7800)  Val Accuracy:  tensor(0.7772)\n",
      "Epoch:  55  Loss:  tensor(8.3929)  Accuracy:  tensor(0.7815)  Val Accuracy:  tensor(0.7764)\n",
      "Epoch:  60  Loss:  tensor(8.3715)  Accuracy:  tensor(0.7850)  Val Accuracy:  tensor(0.7775)\n",
      "Epoch:  65  Loss:  tensor(8.3537)  Accuracy:  tensor(0.7881)  Val Accuracy:  tensor(0.7803)\n",
      "Epoch:  70  Loss:  tensor(8.3388)  Accuracy:  tensor(0.7939)  Val Accuracy:  tensor(0.7833)\n",
      "Test Loss:  tensor(7.7150)  Test Accuracy:  tensor(0.7888) Test error:  tensor(0.2112)\n",
      "Sample size:  36000\n",
      "Epoch:  0  Loss:  tensor(9.8928)  Accuracy:  tensor(0.5735)  Val Accuracy:  tensor(0.5752)\n",
      "Epoch:  5  Loss:  tensor(9.1108)  Accuracy:  tensor(0.7209)  Val Accuracy:  tensor(0.7283)\n",
      "Epoch:  10  Loss:  tensor(9.0888)  Accuracy:  tensor(0.7128)  Val Accuracy:  tensor(0.7120)\n",
      "Epoch:  15  Loss:  tensor(8.9765)  Accuracy:  tensor(0.7439)  Val Accuracy:  tensor(0.7457)\n",
      "Epoch:  20  Loss:  tensor(8.9338)  Accuracy:  tensor(0.7497)  Val Accuracy:  tensor(0.7450)\n",
      "Epoch:  25  Loss:  tensor(8.8998)  Accuracy:  tensor(0.7600)  Val Accuracy:  tensor(0.7580)\n",
      "Epoch:  30  Loss:  tensor(8.8535)  Accuracy:  tensor(0.7807)  Val Accuracy:  tensor(0.7744)\n",
      "Epoch:  35  Loss:  tensor(8.8134)  Accuracy:  tensor(0.7888)  Val Accuracy:  tensor(0.7830)\n",
      "Epoch:  40  Loss:  tensor(8.8059)  Accuracy:  tensor(0.7878)  Val Accuracy:  tensor(0.7761)\n",
      "Epoch:  45  Loss:  tensor(8.8049)  Accuracy:  tensor(0.7829)  Val Accuracy:  tensor(0.7689)\n",
      "Epoch:  50  Loss:  tensor(8.7876)  Accuracy:  tensor(0.7965)  Val Accuracy:  tensor(0.7798)\n",
      "Epoch:  55  Loss:  tensor(8.7733)  Accuracy:  tensor(0.8110)  Val Accuracy:  tensor(0.7915)\n",
      "Epoch:  60  Loss:  tensor(8.7670)  Accuracy:  tensor(0.8266)  Val Accuracy:  tensor(0.8052)\n",
      "Epoch:  65  Loss:  tensor(8.7624)  Accuracy:  tensor(0.8395)  Val Accuracy:  tensor(0.8169)\n",
      "Epoch:  70  Loss:  tensor(8.7539)  Accuracy:  tensor(0.8504)  Val Accuracy:  tensor(0.8276)\n",
      "Test Loss:  tensor(7.7326)  Test Accuracy:  tensor(0.8468) Test error:  tensor(0.1532)\n",
      "Sample size:  48000\n",
      "Epoch:  0  Loss:  tensor(9.9255)  Accuracy:  tensor(0.6520)  Val Accuracy:  tensor(0.6561)\n",
      "Epoch:  5  Loss:  tensor(9.3500)  Accuracy:  tensor(0.7226)  Val Accuracy:  tensor(0.7236)\n",
      "Epoch:  10  Loss:  tensor(9.2835)  Accuracy:  tensor(0.7369)  Val Accuracy:  tensor(0.7326)\n",
      "Epoch:  15  Loss:  tensor(9.1732)  Accuracy:  tensor(0.7742)  Val Accuracy:  tensor(0.7678)\n",
      "Epoch:  20  Loss:  tensor(9.1286)  Accuracy:  tensor(0.7937)  Val Accuracy:  tensor(0.7793)\n",
      "Epoch:  25  Loss:  tensor(9.0617)  Accuracy:  tensor(0.8164)  Val Accuracy:  tensor(0.8108)\n",
      "Epoch:  30  Loss:  tensor(9.0178)  Accuracy:  tensor(0.8299)  Val Accuracy:  tensor(0.8186)\n",
      "Epoch:  35  Loss:  tensor(9.0065)  Accuracy:  tensor(0.8219)  Val Accuracy:  tensor(0.8106)\n",
      "Epoch:  40  Loss:  tensor(9.0064)  Accuracy:  tensor(0.8312)  Val Accuracy:  tensor(0.8192)\n",
      "Epoch:  45  Loss:  tensor(8.9959)  Accuracy:  tensor(0.8457)  Val Accuracy:  tensor(0.8322)\n",
      "Epoch:  50  Loss:  tensor(8.9754)  Accuracy:  tensor(0.8623)  Val Accuracy:  tensor(0.8457)\n",
      "Epoch:  55  Loss:  tensor(8.9586)  Accuracy:  tensor(0.8757)  Val Accuracy:  tensor(0.8582)\n",
      "Epoch:  60  Loss:  tensor(8.9484)  Accuracy:  tensor(0.8846)  Val Accuracy:  tensor(0.8661)\n",
      "Epoch:  65  Loss:  tensor(8.9409)  Accuracy:  tensor(0.8916)  Val Accuracy:  tensor(0.8733)\n",
      "Epoch:  70  Loss:  tensor(8.9388)  Accuracy:  tensor(0.8962)  Val Accuracy:  tensor(0.8782)\n",
      "Test Loss:  tensor(7.6603)  Test Accuracy:  tensor(0.8901) Test error:  tensor(0.1099)\n",
      "Sample size:  60000\n",
      "Epoch:  0  Loss:  tensor(10.2030)  Accuracy:  tensor(0.6615)  Val Accuracy:  tensor(0.6578)\n",
      "Epoch:  5  Loss:  tensor(9.5855)  Accuracy:  tensor(0.7095)  Val Accuracy:  tensor(0.7061)\n",
      "Epoch:  10  Loss:  tensor(9.5465)  Accuracy:  tensor(0.7389)  Val Accuracy:  tensor(0.7333)\n",
      "Epoch:  15  Loss:  tensor(9.4316)  Accuracy:  tensor(0.7700)  Val Accuracy:  tensor(0.7671)\n",
      "Epoch:  20  Loss:  tensor(9.3302)  Accuracy:  tensor(0.8013)  Val Accuracy:  tensor(0.7983)\n",
      "Epoch:  25  Loss:  tensor(9.2569)  Accuracy:  tensor(0.8453)  Val Accuracy:  tensor(0.8400)\n",
      "Epoch:  30  Loss:  tensor(9.1881)  Accuracy:  tensor(0.8786)  Val Accuracy:  tensor(0.8712)\n",
      "Epoch:  35  Loss:  tensor(9.1538)  Accuracy:  tensor(0.8944)  Val Accuracy:  tensor(0.8814)\n",
      "Epoch:  40  Loss:  tensor(9.1626)  Accuracy:  tensor(0.9059)  Val Accuracy:  tensor(0.8937)\n",
      "Epoch:  45  Loss:  tensor(9.2040)  Accuracy:  tensor(0.9131)  Val Accuracy:  tensor(0.8997)\n",
      "Epoch:  50  Loss:  tensor(9.2251)  Accuracy:  tensor(0.9218)  Val Accuracy:  tensor(0.9086)\n",
      "Epoch:  55  Loss:  tensor(9.1822)  Accuracy:  tensor(0.9305)  Val Accuracy:  tensor(0.9129)\n",
      "Epoch:  60  Loss:  tensor(9.2351)  Accuracy:  tensor(0.9352)  Val Accuracy:  tensor(0.9201)\n",
      "Epoch:  65  Loss:  tensor(9.2435)  Accuracy:  tensor(0.9411)  Val Accuracy:  tensor(0.9261)\n",
      "Epoch:  70  Loss:  tensor(9.2353)  Accuracy:  tensor(0.9449)  Val Accuracy:  tensor(0.9310)\n",
      "Test Loss:  tensor(7.8439)  Test Accuracy:  tensor(0.9378) Test error:  tensor(0.0622)\n"
     ]
    },
    {
     "data": {
      "image/png": "[encoded data removed]",
      "text/plain": [
       "<Figure size 640x480 with 1 Axes>"
      ]
     },
     "metadata": {},
     "output_type": "display_data"
    },
    {
     "name": "stdout",
     "output_type": "stream",
     "text": [
      "Sample size:  12000 Test error:  tensor(0.2372)\n",
      "Sample size:  24000 Test error:  tensor(0.2112)\n",
      "Sample size:  36000 Test error:  tensor(0.1532)\n",
      "Sample size:  48000 Test error:  tensor(0.1099)\n",
      "Sample size:  60000 Test error:  tensor(0.0622)\n"
     ]
    }
   ],
   "source": [
    "sample_size_int = 12000\n",
    "sample_size_step = 12000\n",
    "sample_sizes = []\n",
    "accuracies = []\n",
    "test_errors = []\n",
    "for sample_size in range(sample_size_int, Y_train.shape[0]+1, sample_size_step):\n",
    "    sample_sizes.append(sample_size)\n",
    "    print(\"Sample size: \", sample_size)\n",
    "    random_indices = torch.randperm(Y_train.shape[0])[:sample_size]\n",
    "    X_train_sample = X_train[random_indices, :] ##shape (sample_size, 784) - random sampling\n",
    "    Y_train_sample = Y_train[random_indices, :] ##shape (sample_size, 10) - random sampling\n",
    "    ##TRAINING\n",
    "    W1, W2, W3 = initialize_weights (random_uniform = \"Yes\")\n",
    "    W1, W2, W3 = train(X_train_sample, Y_train_sample, W1, W2, W3, learning_rate=0.005, num_epochs=75, batch_size = 16)\n",
    "    ##TESTING\n",
    "    loss, acc = test(X_test, Y_test, W1, W2, W3)\n",
    "    accuracies.append(acc)\n",
    "    test_errors.append(1-acc)\n",
    "\n",
    "\n",
    "##LEARNING CURVE\n",
    "fig, ax = plt.subplots()\n",
    "ax.plot(sample_sizes, accuracies)\n",
    "ax.set(xlabel='Sample size', ylabel='Accuracy', title='Learning curve - using basic linear algebra operations')\n",
    "ax.grid()\n",
    "plt.show()\n",
    "\n",
    "##REPORTING TEST ERRORS\n",
    "for i in range(len(test_errors)):\n",
    "    print(\"Sample size: \", sample_sizes[i], \"Test error: \", test_errors[i])\n"
   ]
  },
  {
   "cell_type": "code",
   "execution_count": 49,
   "metadata": {},
   "outputs": [
    {
     "name": "stdout",
     "output_type": "stream",
     "text": [
      "[12000, 24000, 36000, 48000, 60000] [tensor(0.7628), tensor(0.7888), tensor(0.8468), tensor(0.8901), tensor(0.9378)]\n"
     ]
    }
   ],
   "source": [
    "print(sample_sizes, accuracies)"
   ]
  },
  {
   "attachments": {},
   "cell_type": "markdown",
   "metadata": {},
   "source": [
    "**Problem 3.3 - Three Layer Neural Network using Pytorch Modules**"
   ]
  },
  {
   "cell_type": "code",
   "execution_count": 50,
   "metadata": {},
   "outputs": [
    {
     "name": "stdout",
     "output_type": "stream",
     "text": [
      "Sample size:  12000\n",
      "Epoch:  0  Loss:  2.332613706588745  Train accuracy:  tensor(0.0625)\n",
      "Epoch:  5  Loss:  2.3179328441619873  Train accuracy:  tensor(0.0625)\n",
      "Epoch:  10  Loss:  2.2752373218536377  Train accuracy:  tensor(0.1875)\n",
      "Epoch:  15  Loss:  2.0328190326690674  Train accuracy:  tensor(0.3125)\n",
      "Epoch:  20  Loss:  1.461808443069458  Train accuracy:  tensor(0.5625)\n",
      "Epoch:  25  Loss:  1.1305675506591797  Train accuracy:  tensor(0.6875)\n",
      "Epoch:  30  Loss:  0.9370383620262146  Train accuracy:  tensor(0.7500)\n",
      "Epoch:  35  Loss:  0.787188708782196  Train accuracy:  tensor(0.7500)\n",
      "Epoch:  40  Loss:  0.6731209754943848  Train accuracy:  tensor(0.8750)\n",
      "Epoch:  45  Loss:  0.5822843909263611  Train accuracy:  tensor(0.8750)\n",
      "py_sample_size 12000 Test accuracy:  tensor(0.8574)\n",
      "Sample size:  24000\n",
      "Epoch:  0  Loss:  2.291520833969116  Train accuracy:  tensor(0.0625)\n",
      "Epoch:  5  Loss:  2.1965017318725586  Train accuracy:  tensor(0.3750)\n",
      "Epoch:  10  Loss:  1.1689742803573608  Train accuracy:  tensor(0.7500)\n",
      "Epoch:  15  Loss:  0.6501625776290894  Train accuracy:  tensor(0.8125)\n",
      "Epoch:  20  Loss:  0.5197001695632935  Train accuracy:  tensor(0.8125)\n",
      "Epoch:  25  Loss:  0.4867374897003174  Train accuracy:  tensor(0.8750)\n",
      "Epoch:  30  Loss:  0.4647969901561737  Train accuracy:  tensor(0.8750)\n",
      "Epoch:  35  Loss:  0.4375873804092407  Train accuracy:  tensor(0.8750)\n",
      "Epoch:  40  Loss:  0.4076121747493744  Train accuracy:  tensor(0.9375)\n",
      "Epoch:  45  Loss:  0.37834715843200684  Train accuracy:  tensor(0.9375)\n",
      "py_sample_size 24000 Test accuracy:  tensor(0.9036)\n",
      "Sample size:  36000\n",
      "Epoch:  0  Loss:  2.298287868499756  Train accuracy:  tensor(0.0625)\n",
      "Epoch:  5  Loss:  1.5632528066635132  Train accuracy:  tensor(0.6250)\n",
      "Epoch:  10  Loss:  0.5839807391166687  Train accuracy:  tensor(0.8750)\n",
      "Epoch:  15  Loss:  0.29841601848602295  Train accuracy:  tensor(0.8750)\n",
      "Epoch:  20  Loss:  0.20259705185890198  Train accuracy:  tensor(0.9375)\n",
      "Epoch:  25  Loss:  0.16513599455356598  Train accuracy:  tensor(0.9375)\n",
      "Epoch:  30  Loss:  0.1427147090435028  Train accuracy:  tensor(0.9375)\n",
      "Epoch:  35  Loss:  0.12454470247030258  Train accuracy:  tensor(0.9375)\n",
      "Epoch:  40  Loss:  0.10886792838573456  Train accuracy:  tensor(0.9375)\n",
      "Epoch:  45  Loss:  0.09552901983261108  Train accuracy:  tensor(1.)\n",
      "py_sample_size 36000 Test accuracy:  tensor(0.9154)\n",
      "Sample size:  48000\n",
      "Epoch:  0  Loss:  2.2940149307250977  Train accuracy:  tensor(0.1250)\n",
      "Epoch:  5  Loss:  0.9993312358856201  Train accuracy:  tensor(0.6250)\n",
      "Epoch:  10  Loss:  0.5742512941360474  Train accuracy:  tensor(0.7500)\n",
      "Epoch:  15  Loss:  0.5504016280174255  Train accuracy:  tensor(0.8125)\n",
      "Epoch:  20  Loss:  0.5456326007843018  Train accuracy:  tensor(0.7500)\n",
      "Epoch:  25  Loss:  0.5373293161392212  Train accuracy:  tensor(0.8125)\n",
      "Epoch:  30  Loss:  0.5260549783706665  Train accuracy:  tensor(0.8125)\n",
      "Epoch:  35  Loss:  0.5092345476150513  Train accuracy:  tensor(0.8750)\n",
      "Epoch:  40  Loss:  0.48618853092193604  Train accuracy:  tensor(0.8750)\n",
      "Epoch:  45  Loss:  0.45807644724845886  Train accuracy:  tensor(0.9375)\n",
      "py_sample_size 48000 Test accuracy:  tensor(0.9249)\n",
      "Sample size:  60000\n",
      "Epoch:  0  Loss:  2.295518636703491  Train accuracy:  tensor(0.0625)\n",
      "Epoch:  5  Loss:  0.8398922681808472  Train accuracy:  tensor(0.6875)\n",
      "Epoch:  10  Loss:  0.38398897647857666  Train accuracy:  tensor(0.8750)\n",
      "Epoch:  15  Loss:  0.30044636130332947  Train accuracy:  tensor(0.8750)\n",
      "Epoch:  20  Loss:  0.2515929639339447  Train accuracy:  tensor(0.9375)\n",
      "Epoch:  25  Loss:  0.21612995862960815  Train accuracy:  tensor(0.9375)\n",
      "Epoch:  30  Loss:  0.18653441965579987  Train accuracy:  tensor(0.9375)\n",
      "Epoch:  35  Loss:  0.16015629470348358  Train accuracy:  tensor(0.9375)\n",
      "Epoch:  40  Loss:  0.13772718608379364  Train accuracy:  tensor(0.9375)\n",
      "Epoch:  45  Loss:  0.11989324539899826  Train accuracy:  tensor(0.9375)\n",
      "py_sample_size 60000 Test accuracy:  tensor(0.9322)\n"
     ]
    },
    {
     "data": {
      "image/png": "[encoded data removed]",
      "text/plain": [
       "<Figure size 640x480 with 1 Axes>"
      ]
     },
     "metadata": {},
     "output_type": "display_data"
    },
    {
     "name": "stdout",
     "output_type": "stream",
     "text": [
      "Sample size:  12000 Test error:  tensor(0.1426)\n",
      "Sample size:  24000 Test error:  tensor(0.0964)\n",
      "Sample size:  36000 Test error:  tensor(0.0846)\n",
      "Sample size:  48000 Test error:  tensor(0.0751)\n",
      "Sample size:  60000 Test error:  tensor(0.0678)\n"
     ]
    }
   ],
   "source": [
    "class ThreeNN(nn.Module):\n",
    "    def __init__(self):\n",
    "        super(ThreeNN, self).__init__()\n",
    "        self.fc1 = nn.Linear(784, 300, bias=False)\n",
    "        self.fc2 = nn.Linear(300, 200, bias=False)\n",
    "        self.fc3 = nn.Linear(200, 10, bias=False) ##k = 10 (MNIST classes size)\n",
    "\n",
    "    def forward(self, x):\n",
    "        x = torch.sigmoid(self.fc1(x))\n",
    "        x = torch.sigmoid(self.fc2(x))\n",
    "        x = self.fc3(x) ##since nn.CrossEntropyLoss() applies softmax internally\n",
    "        return x\n",
    "    \n",
    "\n",
    "##TRAINING\n",
    "py_epochs = 50\n",
    "py_batch_size = 16\n",
    "py_sample_size_int = 12000\n",
    "py_sample_size_step = 12000\n",
    "py_sample_sizes = []\n",
    "py_accuracies = []\n",
    "py_test_errors = []\n",
    "for py_sample_size in range(py_sample_size_int, Y_train.shape[0]+1, py_sample_size_step):\n",
    "    py_sample_sizes.append(py_sample_size)\n",
    "    print(\"Sample size: \", py_sample_size)\n",
    "    random_indices = torch.randperm(Y_train.shape[0])[:py_sample_size]\n",
    "    py_X_train_sample = X_train[random_indices, :] ##shape (sample_size, 784) - random sampling\n",
    "    py_Y_train_sample = Y_train[random_indices, :] ##shape (sample_size, 10) - random sampling\n",
    "    py_model = ThreeNN()\n",
    "    optimizer = optim.SGD(py_model.parameters(), lr=0.005)\n",
    "    py_loss = nn.CrossEntropyLoss()\n",
    "    for epoch in range(py_epochs):\n",
    "        py_num_batches = (py_X_train_sample.shape[0] + py_batch_size - 1) // py_batch_size\n",
    "        for i in range(py_num_batches):\n",
    "            optimizer.zero_grad()\n",
    "            py_min_index = i * py_batch_size\n",
    "            py_max_index = min((i + 1) * py_batch_size, py_X_train_sample.shape[0])\n",
    "            X_batch = py_X_train_sample[py_min_index:py_max_index, :]\n",
    "            Y_batch = py_Y_train_sample[py_min_index:py_max_index, :]\n",
    "            Y_pred = py_model(X_batch)\n",
    "            loss = py_loss(Y_pred, torch.argmax(Y_batch, dim=1))\n",
    "            loss.backward()\n",
    "            optimizer.step()\n",
    "        if epoch % 5 == 0:\n",
    "            train_accuracy = (torch.argmax(Y_pred, dim=1) == torch.argmax(Y_batch, dim=1)).float().mean() ##accuracy before recent weight update\n",
    "            print(\"Epoch: \", epoch, \" Loss: \", loss.item(), \" Train accuracy: \", train_accuracy) \n",
    "            #learning_rate = learning_rate * 0.95  ##decreasing learning rate by 5% every 5 epochs\n",
    "\n",
    "        \n",
    "\n",
    "    ##TESTING\n",
    "    py_Y_pred = py_model(X_test)\n",
    "    py_accuracy = (torch.argmax(py_Y_pred, dim=1) == torch.argmax(Y_test, dim=1)).float().mean()\n",
    "    py_accuracies.append(py_accuracy)\n",
    "    py_test_errors.append(1-py_accuracy)\n",
    "    print(\"py_sample_size\", py_sample_size, \"Test accuracy: \", py_accuracy)\n",
    "\n",
    "##LEARNING CURVE\n",
    "fig, ax = plt.subplots()\n",
    "ax.plot(py_sample_sizes, py_accuracies)\n",
    "ax.set(xlabel='Sample size', ylabel='Accuracy', title='Learning curve - using PyTorch')\n",
    "ax.grid()\n",
    "plt.show()\n",
    "\n",
    "##REPORTING TEST ERRORS\n",
    "for i in range(len(py_test_errors)):\n",
    "    print(\"Sample size: \", py_sample_sizes[i], \"Test error: \", py_test_errors[i])\n",
    "\n",
    "\n",
    "\n",
    "    "
   ]
  },
  {
   "attachments": {},
   "cell_type": "markdown",
   "metadata": {},
   "source": [
    "**Problem 3.4.1 - Weight Initialization - Zeros**"
   ]
  },
  {
   "cell_type": "code",
   "execution_count": 51,
   "metadata": {},
   "outputs": [
    {
     "name": "stdout",
     "output_type": "stream",
     "text": [
      "Sample size:  12000\n",
      "Epoch:  0  Loss:  2.3118433952331543  Train accuracy:  tensor(0.)\n",
      "Epoch:  5  Loss:  2.3116819858551025  Train accuracy:  tensor(0.)\n",
      "Epoch:  10  Loss:  2.3115131855010986  Train accuracy:  tensor(0.)\n",
      "Epoch:  15  Loss:  2.3113369941711426  Train accuracy:  tensor(0.)\n",
      "Epoch:  20  Loss:  2.3111541271209717  Train accuracy:  tensor(0.)\n",
      "Epoch:  25  Loss:  2.310962677001953  Train accuracy:  tensor(0.)\n",
      "Epoch:  30  Loss:  2.3107638359069824  Train accuracy:  tensor(0.)\n",
      "Epoch:  35  Loss:  2.3105573654174805  Train accuracy:  tensor(0.)\n",
      "Epoch:  40  Loss:  2.310342788696289  Train accuracy:  tensor(0.)\n",
      "Epoch:  45  Loss:  2.3101208209991455  Train accuracy:  tensor(0.)\n",
      "py_sample_size 12000 Test accuracy:  tensor(0.1010)\n",
      "Sample size:  24000\n",
      "Epoch:  0  Loss:  2.2780251502990723  Train accuracy:  tensor(0.0625)\n",
      "Epoch:  5  Loss:  2.278627872467041  Train accuracy:  tensor(0.0625)\n",
      "Epoch:  10  Loss:  2.2792470455169678  Train accuracy:  tensor(0.0625)\n",
      "Epoch:  15  Loss:  2.2798829078674316  Train accuracy:  tensor(0.0625)\n",
      "Epoch:  20  Loss:  2.2805356979370117  Train accuracy:  tensor(0.0625)\n",
      "Epoch:  25  Loss:  2.2812068462371826  Train accuracy:  tensor(0.0625)\n",
      "Epoch:  30  Loss:  2.281895875930786  Train accuracy:  tensor(0.0625)\n",
      "Epoch:  35  Loss:  2.282604694366455  Train accuracy:  tensor(0.0625)\n",
      "Epoch:  40  Loss:  2.2833330631256104  Train accuracy:  tensor(0.0625)\n",
      "Epoch:  45  Loss:  2.28408145904541  Train accuracy:  tensor(0.0625)\n",
      "py_sample_size 24000 Test accuracy:  tensor(0.1135)\n",
      "Sample size:  36000\n",
      "Epoch:  0  Loss:  2.3032994270324707  Train accuracy:  tensor(0.1250)\n",
      "Epoch:  5  Loss:  2.301725149154663  Train accuracy:  tensor(0.1250)\n",
      "Epoch:  10  Loss:  2.30014705657959  Train accuracy:  tensor(0.1250)\n",
      "Epoch:  15  Loss:  2.2985751628875732  Train accuracy:  tensor(0.1250)\n",
      "Epoch:  20  Loss:  2.2970170974731445  Train accuracy:  tensor(0.1250)\n",
      "Epoch:  25  Loss:  2.295478105545044  Train accuracy:  tensor(0.1250)\n",
      "Epoch:  30  Loss:  2.293962240219116  Train accuracy:  tensor(0.1250)\n",
      "Epoch:  35  Loss:  2.2924697399139404  Train accuracy:  tensor(0.1250)\n",
      "Epoch:  40  Loss:  2.2909979820251465  Train accuracy:  tensor(0.1250)\n",
      "Epoch:  45  Loss:  2.2895424365997314  Train accuracy:  tensor(0.1250)\n",
      "py_sample_size 36000 Test accuracy:  tensor(0.1135)\n",
      "Sample size:  48000\n",
      "Epoch:  0  Loss:  2.2990851402282715  Train accuracy:  tensor(0.1250)\n",
      "Epoch:  5  Loss:  2.2981083393096924  Train accuracy:  tensor(0.1250)\n",
      "Epoch:  10  Loss:  2.29708194732666  Train accuracy:  tensor(0.1250)\n",
      "Epoch:  15  Loss:  2.296005964279175  Train accuracy:  tensor(0.1250)\n",
      "Epoch:  20  Loss:  2.2948737144470215  Train accuracy:  tensor(0.1250)\n",
      "Epoch:  25  Loss:  2.2936723232269287  Train accuracy:  tensor(0.1250)\n",
      "Epoch:  30  Loss:  2.2923781871795654  Train accuracy:  tensor(0.1250)\n",
      "Epoch:  35  Loss:  2.2909560203552246  Train accuracy:  tensor(0.1250)\n",
      "Epoch:  40  Loss:  2.289351224899292  Train accuracy:  tensor(0.1250)\n",
      "Epoch:  45  Loss:  2.2874767780303955  Train accuracy:  tensor(0.1250)\n",
      "py_sample_size 48000 Test accuracy:  tensor(0.1135)\n",
      "Sample size:  60000\n",
      "Epoch:  0  Loss:  2.3432483673095703  Train accuracy:  tensor(0.)\n",
      "Epoch:  5  Loss:  2.3394012451171875  Train accuracy:  tensor(0.)\n",
      "Epoch:  10  Loss:  2.335577964782715  Train accuracy:  tensor(0.)\n",
      "Epoch:  15  Loss:  2.3319010734558105  Train accuracy:  tensor(0.)\n",
      "Epoch:  20  Loss:  2.3284912109375  Train accuracy:  tensor(0.)\n",
      "Epoch:  25  Loss:  2.3254642486572266  Train accuracy:  tensor(0.)\n",
      "Epoch:  30  Loss:  2.322944164276123  Train accuracy:  tensor(0.)\n",
      "Epoch:  35  Loss:  2.3210909366607666  Train accuracy:  tensor(0.)\n",
      "Epoch:  40  Loss:  2.320166826248169  Train accuracy:  tensor(0.)\n",
      "Epoch:  45  Loss:  2.320716619491577  Train accuracy:  tensor(0.)\n",
      "py_sample_size 60000 Test accuracy:  tensor(0.1135)\n"
     ]
    },
    {
     "data": {
      "image/png": "[encoded data removed]",
      "text/plain": [
       "<Figure size 640x480 with 1 Axes>"
      ]
     },
     "metadata": {},
     "output_type": "display_data"
    },
    {
     "name": "stdout",
     "output_type": "stream",
     "text": [
      "Sample size:  12000 Test error (zero weights):  tensor(0.8990)\n",
      "Sample size:  24000 Test error (zero weights):  tensor(0.8865)\n",
      "Sample size:  36000 Test error (zero weights):  tensor(0.8865)\n",
      "Sample size:  48000 Test error (zero weights):  tensor(0.8865)\n",
      "Sample size:  60000 Test error (zero weights):  tensor(0.8865)\n"
     ]
    }
   ],
   "source": [
    "class ThreeNN(nn.Module):\n",
    "    def __init__(self):\n",
    "        super(ThreeNN, self).__init__()\n",
    "        self.fc1 = nn.Linear(784, 300, bias=False)\n",
    "        nn.init.zeros_(self.fc1.weight) ##initializing weights to zero\n",
    "        self.fc2 = nn.Linear(300, 200, bias=False)\n",
    "        nn.init.zeros_(self.fc2.weight)\n",
    "        self.fc3 = nn.Linear(200, 10, bias=False) ##k = 10 (MNIST classes size)\n",
    "        nn.init.zeros_(self.fc3.weight)\n",
    "\n",
    "    def forward(self, x):\n",
    "        x = torch.sigmoid(self.fc1(x))\n",
    "        x = torch.sigmoid(self.fc2(x))\n",
    "        x = self.fc3(x) ##since nn.CrossEntropyLoss() applies softmax internally\n",
    "        return x\n",
    "    \n",
    "\n",
    "##TRAINING\n",
    "py_epochs = 50\n",
    "py_batch_size = 16\n",
    "py_sample_size_int = 12000\n",
    "py_sample_size_step = 12000\n",
    "py_sample_sizes = []\n",
    "py_accuracies = []\n",
    "py_test_errors = []\n",
    "for py_sample_size in range(py_sample_size_int, Y_train.shape[0]+1, py_sample_size_step):\n",
    "    py_sample_sizes.append(py_sample_size)\n",
    "    print(\"Sample size: \", py_sample_size)\n",
    "    random_indices = torch.randperm(Y_train.shape[0])[:py_sample_size]\n",
    "    py_X_train_sample = X_train[random_indices, :] ##shape (sample_size, 784) - random sampling\n",
    "    py_Y_train_sample = Y_train[random_indices, :] ##shape (sample_size, 10) - random sampling\n",
    "    py_model = ThreeNN()\n",
    "    optimizer = optim.SGD(py_model.parameters(), lr=0.005)\n",
    "    py_loss = nn.CrossEntropyLoss()\n",
    "    for epoch in range(py_epochs):\n",
    "        py_num_batches = (py_X_train_sample.shape[0] + py_batch_size - 1) // py_batch_size\n",
    "        for i in range(py_num_batches):\n",
    "            optimizer.zero_grad()\n",
    "            py_min_index = i * py_batch_size\n",
    "            py_max_index = min((i + 1) * py_batch_size, py_X_train_sample.shape[0])\n",
    "            X_batch = py_X_train_sample[py_min_index:py_max_index, :]\n",
    "            Y_batch = py_Y_train_sample[py_min_index:py_max_index, :]\n",
    "            Y_pred = py_model(X_batch)\n",
    "            loss = py_loss(Y_pred, torch.argmax(Y_batch, dim=1))\n",
    "            loss.backward()\n",
    "            optimizer.step()\n",
    "        if epoch % 5 == 0:\n",
    "            train_accuracy = (torch.argmax(Y_pred, dim=1) == torch.argmax(Y_batch, dim=1)).float().mean() ##accuracy before recent weight update\n",
    "            print(\"Epoch: \", epoch, \" Loss: \", loss.item(), \" Train accuracy: \", train_accuracy) \n",
    "            #learning_rate = learning_rate * 0.95  ##decreasing learning rate by 5% every 5 epochs\n",
    "\n",
    "        \n",
    "\n",
    "    ##TESTING\n",
    "    py_Y_pred = py_model(X_test)\n",
    "    py_accuracy = (torch.argmax(py_Y_pred, dim=1) == torch.argmax(Y_test, dim=1)).float().mean()\n",
    "    py_accuracies.append(py_accuracy)\n",
    "    py_test_errors.append(1-py_accuracy)\n",
    "    print(\"py_sample_size\", py_sample_size, \"Test accuracy: \", py_accuracy)\n",
    "\n",
    "##LEARNING CURVE\n",
    "fig, ax = plt.subplots()\n",
    "ax.plot(py_sample_sizes, py_accuracies)\n",
    "ax.set(xlabel='Sample size', ylabel='Accuracy', title='Learning curve - using PyTorch - Zeros Weight Initialization')\n",
    "ax.grid()\n",
    "plt.show()\n",
    "\n",
    "##REPORTING TEST ERRORS\n",
    "for i in range(len(py_test_errors)):\n",
    "    print(\"Sample size: \", py_sample_sizes[i], \"Test error (zero weights): \", py_test_errors[i])\n",
    "\n",
    "\n",
    "\n",
    "    "
   ]
  },
  {
   "attachments": {},
   "cell_type": "markdown",
   "metadata": {},
   "source": [
    "**Problem 3.4.2 - Weight Initialization - Random (-1, 1)**"
   ]
  },
  {
   "cell_type": "code",
   "execution_count": 52,
   "metadata": {},
   "outputs": [
    {
     "name": "stdout",
     "output_type": "stream",
     "text": [
      "Sample size:  12000\n",
      "Epoch:  0  Loss:  1.4341623783111572  Train accuracy:  tensor(0.5000)\n",
      "Epoch:  5  Loss:  0.1729070544242859  Train accuracy:  tensor(1.)\n",
      "Epoch:  10  Loss:  0.08376036584377289  Train accuracy:  tensor(1.)\n",
      "Epoch:  15  Loss:  0.06239282712340355  Train accuracy:  tensor(1.)\n",
      "Epoch:  20  Loss:  0.05198647826910019  Train accuracy:  tensor(1.)\n",
      "Epoch:  25  Loss:  0.04496181756258011  Train accuracy:  tensor(1.)\n",
      "Epoch:  30  Loss:  0.03972464054822922  Train accuracy:  tensor(1.)\n",
      "Epoch:  35  Loss:  0.03566273674368858  Train accuracy:  tensor(1.)\n",
      "Epoch:  40  Loss:  0.03239136189222336  Train accuracy:  tensor(1.)\n",
      "Epoch:  45  Loss:  0.02965928055346012  Train accuracy:  tensor(1.)\n",
      "py_sample_size 12000 Test accuracy:  tensor(0.8945)\n",
      "Sample size:  24000\n",
      "Epoch:  0  Loss:  0.560257613658905  Train accuracy:  tensor(0.8125)\n",
      "Epoch:  5  Loss:  0.1505955159664154  Train accuracy:  tensor(1.)\n",
      "Epoch:  10  Loss:  0.11294380575418472  Train accuracy:  tensor(1.)\n",
      "Epoch:  15  Loss:  0.09763658046722412  Train accuracy:  tensor(1.)\n",
      "Epoch:  20  Loss:  0.09024134278297424  Train accuracy:  tensor(1.)\n",
      "Epoch:  25  Loss:  0.08543571829795837  Train accuracy:  tensor(1.)\n",
      "Epoch:  30  Loss:  0.08145406097173691  Train accuracy:  tensor(1.)\n",
      "Epoch:  35  Loss:  0.07795638591051102  Train accuracy:  tensor(1.)\n",
      "Epoch:  40  Loss:  0.07492002844810486  Train accuracy:  tensor(1.)\n",
      "Epoch:  45  Loss:  0.07229383289813995  Train accuracy:  tensor(1.)\n",
      "py_sample_size 24000 Test accuracy:  tensor(0.9166)\n",
      "Sample size:  36000\n",
      "Epoch:  0  Loss:  1.311686396598816  Train accuracy:  tensor(0.5000)\n",
      "Epoch:  5  Loss:  0.5638904571533203  Train accuracy:  tensor(0.8125)\n",
      "Epoch:  10  Loss:  0.47130486369132996  Train accuracy:  tensor(0.8125)\n",
      "Epoch:  15  Loss:  0.4317730665206909  Train accuracy:  tensor(0.8750)\n",
      "Epoch:  20  Loss:  0.4046885371208191  Train accuracy:  tensor(0.8750)\n",
      "Epoch:  25  Loss:  0.3806087374687195  Train accuracy:  tensor(0.8750)\n",
      "Epoch:  30  Loss:  0.35704246163368225  Train accuracy:  tensor(0.9375)\n",
      "Epoch:  35  Loss:  0.33347904682159424  Train accuracy:  tensor(0.9375)\n",
      "Epoch:  40  Loss:  0.31004834175109863  Train accuracy:  tensor(0.9375)\n",
      "Epoch:  45  Loss:  0.2871169149875641  Train accuracy:  tensor(0.9375)\n",
      "py_sample_size 36000 Test accuracy:  tensor(0.9271)\n",
      "Sample size:  48000\n",
      "Epoch:  0  Loss:  0.7073351144790649  Train accuracy:  tensor(0.8125)\n",
      "Epoch:  5  Loss:  0.4051302671432495  Train accuracy:  tensor(0.8750)\n",
      "Epoch:  10  Loss:  0.3200278580188751  Train accuracy:  tensor(0.8750)\n",
      "Epoch:  15  Loss:  0.25739210844039917  Train accuracy:  tensor(0.9375)\n",
      "Epoch:  20  Loss:  0.21283426880836487  Train accuracy:  tensor(0.9375)\n",
      "Epoch:  25  Loss:  0.1806478351354599  Train accuracy:  tensor(0.9375)\n",
      "Epoch:  30  Loss:  0.15634679794311523  Train accuracy:  tensor(0.9375)\n",
      "Epoch:  35  Loss:  0.13725033402442932  Train accuracy:  tensor(0.9375)\n",
      "Epoch:  40  Loss:  0.12177662551403046  Train accuracy:  tensor(0.9375)\n",
      "Epoch:  45  Loss:  0.10895989835262299  Train accuracy:  tensor(0.9375)\n",
      "py_sample_size 48000 Test accuracy:  tensor(0.9381)\n",
      "Sample size:  60000\n",
      "Epoch:  0  Loss:  0.8224007487297058  Train accuracy:  tensor(0.7500)\n",
      "Epoch:  5  Loss:  0.27790918946266174  Train accuracy:  tensor(0.8750)\n",
      "Epoch:  10  Loss:  0.2176218032836914  Train accuracy:  tensor(0.9375)\n",
      "Epoch:  15  Loss:  0.1895308494567871  Train accuracy:  tensor(0.9375)\n",
      "Epoch:  20  Loss:  0.17669677734375  Train accuracy:  tensor(0.9375)\n",
      "Epoch:  25  Loss:  0.17007432878017426  Train accuracy:  tensor(0.9375)\n",
      "Epoch:  30  Loss:  0.16566261649131775  Train accuracy:  tensor(0.9375)\n",
      "Epoch:  35  Loss:  0.16203290224075317  Train accuracy:  tensor(0.9375)\n",
      "Epoch:  40  Loss:  0.1586683988571167  Train accuracy:  tensor(0.9375)\n",
      "Epoch:  45  Loss:  0.15534929931163788  Train accuracy:  tensor(0.9375)\n",
      "py_sample_size 60000 Test accuracy:  tensor(0.9410)\n"
     ]
    },
    {
     "data": {
      "image/png": "[encoded data removed]",
      "text/plain": [
       "<Figure size 640x480 with 1 Axes>"
      ]
     },
     "metadata": {},
     "output_type": "display_data"
    },
    {
     "name": "stdout",
     "output_type": "stream",
     "text": [
      "Sample size:  12000 Test error ((-1, 1) weights):  tensor(0.1055)\n",
      "Sample size:  24000 Test error ((-1, 1) weights):  tensor(0.0834)\n",
      "Sample size:  36000 Test error ((-1, 1) weights):  tensor(0.0729)\n",
      "Sample size:  48000 Test error ((-1, 1) weights):  tensor(0.0619)\n",
      "Sample size:  60000 Test error ((-1, 1) weights):  tensor(0.0590)\n"
     ]
    }
   ],
   "source": [
    "class ThreeNN(nn.Module):\n",
    "    def __init__(self):\n",
    "        super(ThreeNN, self).__init__()\n",
    "        self.fc1 = nn.Linear(784, 300, bias=False)\n",
    "        nn.init.uniform_(self.fc1.weight, -1, 1) ##initializing weights to random values between -1 and 1\n",
    "        self.fc2 = nn.Linear(300, 200, bias=False)\n",
    "        nn.init.uniform_(self.fc2.weight, -1, 1)\n",
    "        self.fc3 = nn.Linear(200, 10, bias=False) ##k = 10 (MNIST classes size)\n",
    "        nn.init.uniform_(self.fc3.weight, -1, 1)\n",
    "\n",
    "    def forward(self, x):\n",
    "        x = torch.sigmoid(self.fc1(x))\n",
    "        x = torch.sigmoid(self.fc2(x))\n",
    "        x = self.fc3(x) ##since nn.CrossEntropyLoss() applies softmax internally\n",
    "        return x\n",
    "    \n",
    "\n",
    "##TRAINING\n",
    "py_epochs = 50\n",
    "py_batch_size = 16\n",
    "py_sample_size_int = 12000\n",
    "py_sample_size_step = 12000\n",
    "py_sample_sizes = []\n",
    "py_accuracies = []\n",
    "py_test_errors = []\n",
    "for py_sample_size in range(py_sample_size_int, Y_train.shape[0]+1, py_sample_size_step):\n",
    "    py_sample_sizes.append(py_sample_size)\n",
    "    print(\"Sample size: \", py_sample_size)\n",
    "    random_indices = torch.randperm(Y_train.shape[0])[:py_sample_size]\n",
    "    py_X_train_sample = X_train[random_indices, :] ##shape (sample_size, 784) - random sampling\n",
    "    py_Y_train_sample = Y_train[random_indices, :] ##shape (sample_size, 10) - random sampling\n",
    "    py_model = ThreeNN()\n",
    "    optimizer = optim.SGD(py_model.parameters(), lr=0.005)\n",
    "    py_loss = nn.CrossEntropyLoss()\n",
    "    for epoch in range(py_epochs):\n",
    "        py_num_batches = (py_X_train_sample.shape[0] + py_batch_size - 1) // py_batch_size\n",
    "        for i in range(py_num_batches):\n",
    "            optimizer.zero_grad()\n",
    "            py_min_index = i * py_batch_size\n",
    "            py_max_index = min((i + 1) * py_batch_size, py_X_train_sample.shape[0])\n",
    "            X_batch = py_X_train_sample[py_min_index:py_max_index, :]\n",
    "            Y_batch = py_Y_train_sample[py_min_index:py_max_index, :]\n",
    "            Y_pred = py_model(X_batch)\n",
    "            loss = py_loss(Y_pred, torch.argmax(Y_batch, dim=1))\n",
    "            loss.backward()\n",
    "            optimizer.step()\n",
    "        if epoch % 5 == 0:\n",
    "            train_accuracy = (torch.argmax(Y_pred, dim=1) == torch.argmax(Y_batch, dim=1)).float().mean() ##accuracy before recent weight update\n",
    "            print(\"Epoch: \", epoch, \" Loss: \", loss.item(), \" Train accuracy: \", train_accuracy) \n",
    "            #learning_rate = learning_rate * 0.95  ##decreasing learning rate by 5% every 5 epochs\n",
    "\n",
    "        \n",
    "\n",
    "    ##TESTING\n",
    "    py_Y_pred = py_model(X_test)\n",
    "    py_accuracy = (torch.argmax(py_Y_pred, dim=1) == torch.argmax(Y_test, dim=1)).float().mean()\n",
    "    py_accuracies.append(py_accuracy)\n",
    "    py_test_errors.append(1-py_accuracy)\n",
    "    print(\"py_sample_size\", py_sample_size, \"Test accuracy: \", py_accuracy)\n",
    "\n",
    "##LEARNING CURVE\n",
    "fig, ax = plt.subplots()\n",
    "ax.plot(py_sample_sizes, py_accuracies)\n",
    "ax.set(xlabel='Sample size', ylabel='Accuracy', title='Learning curve - using PyTorch - Random Weight Initialization (-1, 1)')\n",
    "ax.grid()\n",
    "plt.show()\n",
    "\n",
    "##REPORTING TEST ERRORS\n",
    "for i in range(len(py_test_errors)):\n",
    "    print(\"Sample size: \", py_sample_sizes[i], \"Test error ((-1, 1) weights): \", py_test_errors[i])\n",
    "\n",
    "\n",
    "\n",
    "    "
   ]
  },
  {
   "attachments": {},
   "cell_type": "markdown",
   "metadata": {},
   "source": [
    "testttt"
   ]
  },
  {
   "cell_type": "code",
   "execution_count": 77,
   "metadata": {},
   "outputs": [
    {
     "data": {
      "text/plain": [
       "torch.Size([60000])"
      ]
     },
     "execution_count": 77,
     "metadata": {},
     "output_type": "execute_result"
    }
   ],
   "source": [
    "riya = torch.tensor([[1, 4, 5], [4, 5, 1]])\n",
    "harsha = torch.tensor([[1, 2], [3, 4], [5, 6]])\n",
    "#print(riya.shape, harsha.shape)\n",
    "#torch.sum(riya, dim=1, keepdim=True)\n",
    "torch.sum(harsha)\n",
    "Y_train.shape"
   ]
  },
  {
   "cell_type": "code",
   "execution_count": 139,
   "metadata": {},
   "outputs": [
    {
     "data": {
      "text/plain": [
       "tensor([1, 0, 3, 2, 4])"
      ]
     },
     "execution_count": 139,
     "metadata": {},
     "output_type": "execute_result"
    }
   ],
   "source": [
    "torch.randperm(5)[:5]"
   ]
  },
  {
   "cell_type": "code",
   "execution_count": 138,
   "metadata": {},
   "outputs": [
    {
     "name": "stdout",
     "output_type": "stream",
     "text": [
      "7\n",
      "14\n",
      "21\n",
      "28\n",
      "35\n",
      "42\n",
      "49\n"
     ]
    }
   ],
   "source": [
    "for i in range(7, 49+1, 7):\n",
    "    print(i)"
   ]
  }
 ],
 "metadata": {
  "kernelspec": {
   "display_name": "3bmi771",
   "language": "python",
   "name": "python3"
  },
  "language_info": {
   "codemirror_mode": {
    "name": "ipython",
    "version": 3
   },
   "file_extension": ".py",
   "mimetype": "text/x-python",
   "name": "python",
   "nbconvert_exporter": "python",
   "pygments_lexer": "ipython3",
   "version": "3.9.13"
  },
  "orig_nbformat": 4
 },
 "nbformat": 4,
 "nbformat_minor": 2
}
